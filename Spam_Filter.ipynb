{
 "cells": [
  {
   "cell_type": "code",
   "execution_count": 7,
   "id": "f8f56a48",
   "metadata": {},
   "outputs": [],
   "source": [
    "import nltk\n",
    "from nltk.tokenize import word_tokenize\n",
    "import pandas as pd\n",
    "import csv\n",
    "import numpy as np\n",
    "from sklearn import preprocessing , svm , model_selection"
   ]
  },
  {
   "cell_type": "code",
   "execution_count": 4,
   "id": "66133242",
   "metadata": {},
   "outputs": [
    {
     "name": "stdout",
     "output_type": "stream",
     "text": [
      "NNP   10052\n",
      "IN   6214\n",
      "JJ   6762\n",
      "NN   16499\n",
      ",   1871\n",
      "RB   5262\n",
      "FW   81\n",
      ":   2849\n",
      "EX   114\n",
      "VBD   1908\n",
      "WRB   778\n",
      "CD   3346\n",
      "DT   4315\n",
      "TO   2299\n",
      "VB   5610\n",
      ".   7808\n",
      "(   117\n",
      ")   494\n",
      "CC   2853\n",
      "POS   262\n",
      "VBP   4535\n",
      "NNS   2536\n",
      "PRP   6877\n",
      "VBZ   2143\n",
      "VBG   1756\n",
      "VBN   1069\n",
      "MD   1450\n",
      "PRP$   1911\n",
      "JJR   166\n",
      "JJS   130\n",
      "UH   232\n",
      "$   65\n",
      "RP   500\n",
      "WP   406\n",
      "WDT   146\n",
      "PDT   50\n",
      "#   287\n",
      "''   314\n",
      "``   10\n",
      "NNPS   18\n",
      "RBR   59\n",
      "RBS   21\n",
      "SYM   15\n",
      "WP$   2\n",
      "LS   1\n",
      "['FW', '$', 'PDT', '``', 'NNPS', 'RBR', 'RBS', 'SYM', 'WP$', 'LS']\n",
      "{'NNP': 10052, 'IN': 6214, 'JJ': 6762, 'NN': 16499, ',': 1871, 'RB': 5262, ':': 2849, 'EX': 114, 'VBD': 1908, 'WRB': 778, 'CD': 3346, 'DT': 4315, 'TO': 2299, 'VB': 5610, '.': 7808, '(': 117, ')': 494, 'CC': 2853, 'POS': 262, 'VBP': 4535, 'NNS': 2536, 'PRP': 6877, 'VBZ': 2143, 'VBG': 1756, 'VBN': 1069, 'MD': 1450, 'PRP$': 1911, 'JJR': 166, 'JJS': 130, 'UH': 232, 'RP': 500, 'WP': 406, 'WDT': 146, '#': 287, \"''\": 314}\n",
      "['NNP', 'IN', 'JJ', 'NN', ',', 'RB', ':', 'EX', 'VBD', 'WRB', 'CD', 'DT', 'TO', 'VB', '.', '(', ')', 'CC', 'POS', 'VBP', 'NNS', 'PRP', 'VBZ', 'VBG', 'VBN', 'MD', 'PRP$', 'JJR', 'JJS', 'UH', 'RP', 'WP', 'WDT', '#', \"''\"] 35\n",
      "                                                 msg label  label_no  NNP  IN  \\\n",
      "0  Go until jurong point, crazy.. Available only ...   ham         0    3   2   \n",
      "1                      Ok lar... Joking wif u oni...   ham         0    2   0   \n",
      "2  Free entry in 2 a wkly comp to win FA Cup fina...  spam         1    6   1   \n",
      "3  U dun say so early hor... U c already then say...   ham         0    1   0   \n",
      "4  Nah I don't think he goes to usf, he lives aro...   ham         0    1   1   \n",
      "\n",
      "   JJ  NN  ,  RB  :  ...  MD  PRP$  JJR  JJS  UH  RP  WP  WDT  #  ''  \n",
      "0   3   7  1   3  2  ...   0     0    0    0   0   0   0    0  0   0  \n",
      "1   1   2  0   0  2  ...   0     0    0    0   0   0   0    0  0   0  \n",
      "2   4   7  0   0  0  ...   0     0    0    0   0   0   0    0  0   0  \n",
      "3   2   1  0   3  2  ...   0     0    0    0   0   0   0    0  0   0  \n",
      "4   0   0  1   3  0  ...   0     0    0    0   0   0   0    0  0   0  \n",
      "\n",
      "[5 rows x 38 columns]\n"
     ]
    }
   ],
   "source": [
    "tok_dict={}\n",
    "\n",
    "lst=['NNP', 'IN', 'JJ', 'NN', ',', 'RB', ':', 'EX', 'VBD', 'WRB', 'CD', 'DT', 'TO', 'VB', '.',\n",
    "     '(', ')', 'CC', 'POS', 'VBP', 'NNS', 'PRP', 'VBZ', 'VBG', 'VBN', 'MD', 'PRP$', 'JJR', 'JJS', 'UH', 'RP', 'WP', 'WDT', '#', \"''\"]\n",
    "\n",
    "pd_dict={'msg':[],'label':[],'label_no':[],'NNP':[], 'IN':[], 'JJ':[], 'NN':[], ',':[], 'RB':[], ':':[], 'EX':[], 'VBD':[], \n",
    "'WRB':[], 'CD':[], 'DT':[], 'TO':[], 'VB':[], '.':[], '(':[], ')':[], 'CC':[],\n",
    "'POS':[], 'VBP':[], 'NNS':[], 'PRP':[], 'VBZ':[], 'VBG':[], 'VBN':[], 'MD':[], \n",
    "'PRP$':[], 'JJR':[], 'JJS':[], 'UH':[], 'RP':[], 'WP':[], 'WDT':[], '#':[], \"''\":[]}\n",
    "\n",
    "with open(\"spam.csv\", 'r') as file:\n",
    "  csvreader = csv.reader(file)\n",
    "  j=0\n",
    "  k=0\n",
    "  for row in csvreader:\n",
    "    if j==0:\n",
    "        j=1\n",
    "        continue\n",
    "    pd_dict['msg'].append(row[1])\n",
    "    pd_dict['label'].append(row[0])\n",
    "    if row[0]=='spam':\n",
    "        pd_dict['label_no'].append(1)\n",
    "    else:\n",
    "        pd_dict['label_no'].append(0)\n",
    "    for label in lst:\n",
    "        pd_dict[label].append(0)\n",
    "    text=row[1]\n",
    "    tokens=word_tokenize(text)\n",
    "    tokens_tagged=nltk.pos_tag(tokens)\n",
    "#        print(tokens_tagged,end='\\n\\n')\n",
    "    for i in tokens_tagged:\n",
    "        if i[1] in tok_dict:\n",
    "            tok_dict[i[1]].append(i[0])\n",
    "        else:\n",
    "            tok_dict[i[1]]=[i[0]]\n",
    "        if i[1] in pd_dict:\n",
    "          pd_dict[i[1]][k]+=1\n",
    "    k+=1\n",
    "        \n",
    "\n",
    "\n",
    "\n",
    "#text=\"\"\n",
    "#tokens=word_tokenize(text)\n",
    "#tokens_tagged=nltk.pos_tag(tokens)\n",
    "#print(tokens_tagged,end='\\n\\n')\n",
    "#for i in tokens_tagged:\n",
    "#    if i[1] in tok_dict:\n",
    "#        tok_dict[i[1]].append(i[0])\n",
    "#    else:\n",
    "#        tok_dict[i[1]]=[i[0]]\n",
    "\n",
    "#print(tok_dict, end=\"\\n\\n\")\n",
    "\n",
    "tok_dict1={}\n",
    "for i in tok_dict:\n",
    "    tok_dict1[i]=len(tok_dict[i])\n",
    "\n",
    "del_lst=[]\n",
    "for i in tok_dict1:\n",
    "    print(i,\" \",tok_dict1[i])\n",
    "    if tok_dict1[i]<100:\n",
    "        del_lst.append(i)\n",
    "\n",
    "print(del_lst)\n",
    "for i in del_lst:\n",
    "    tok_dict1.pop(i)\n",
    "\n",
    "\n",
    "print(tok_dict1)\n",
    "\n",
    "lst=[]\n",
    "for i in tok_dict1:\n",
    "    lst.append(i)\n",
    "\n",
    "\n",
    "print(lst,len(lst))\n",
    "\n",
    "df=pd.DataFrame(pd_dict)\n",
    "print(df.head())"
   ]
  },
  {
   "cell_type": "code",
   "execution_count": 6,
   "id": "5a1c2e55",
   "metadata": {},
   "outputs": [
    {
     "name": "stderr",
     "output_type": "stream",
     "text": [
      "C:\\Users\\shiva\\AppData\\Local\\Temp\\ipykernel_12760\\3680990268.py:1: FutureWarning: In a future version of pandas all arguments of DataFrame.drop except for the argument 'labels' will be keyword-only.\n",
      "  X=np.array(df.drop(['msg','label','label_no'],1))\n"
     ]
    },
    {
     "data": {
      "text/plain": [
       "array([[3, 2, 3, ..., 0, 0, 0],\n",
       "       [2, 0, 1, ..., 0, 0, 0],\n",
       "       [6, 1, 4, ..., 0, 0, 0],\n",
       "       ...,\n",
       "       [0, 2, 1, ..., 0, 0, 0],\n",
       "       [0, 3, 3, ..., 0, 0, 0],\n",
       "       [1, 0, 1, ..., 0, 0, 0]], dtype=int64)"
      ]
     },
     "execution_count": 6,
     "metadata": {},
     "output_type": "execute_result"
    }
   ],
   "source": [
    "X=np.array(df.drop(['msg','label','label_no'],1))\n",
    "y=np.array(df['label_no'])\n",
    "X"
   ]
  },
  {
   "cell_type": "code",
   "execution_count": 30,
   "id": "9eae3560",
   "metadata": {},
   "outputs": [
    {
     "name": "stdout",
     "output_type": "stream",
     "text": [
      "0.974910394265233\n"
     ]
    }
   ],
   "source": [
    "X_train, X_test, y_train, y_test = model_selection.train_test_split(X, y, test_size=0.1)\n",
    "clf=svm.SVC(kernel='poly')\n",
    "clf.fit(X_train, y_train)\n",
    "accuracy = clf.score(X_test, y_test)\n",
    "print(accuracy)"
   ]
  },
  {
   "cell_type": "code",
   "execution_count": 40,
   "id": "5357e265",
   "metadata": {},
   "outputs": [],
   "source": [
    "text='''Wells Fargo Bank: Your account is temporarily locked. \n",
    "Please log in at http://goo.gl/2a234 to secure your account.'''"
   ]
  },
  {
   "cell_type": "code",
   "execution_count": 41,
   "id": "dea09b2f",
   "metadata": {},
   "outputs": [],
   "source": [
    "tokens=word_tokenize(text)\n",
    "tokens_tagged=nltk.pos_tag(tokens)\n",
    "x=[]\n",
    "for i in range(35):\n",
    "    x.append(0)\n",
    "pos_dict={'NNP':[0], 'IN':[1], 'JJ':[2], 'NN':[3], ',':[4], 'RB':[5], ':':[6], 'EX':[7], 'VBD':[8], \n",
    "'WRB':[9], 'CD':[10], 'DT':[11], 'TO':[12], 'VB':[13], '.':[14], '(':[15], ')':[16], 'CC':[17],\n",
    "'POS':[18], 'VBP':[19], 'NNS':[20], 'PRP':[21], 'VBZ':[22], 'VBG':[23], 'VBN':[24], 'MD':[25], \n",
    "'PRP$':[26], 'JJR':[27], 'JJS':[28], 'UH':[29], 'RP':[30], 'WP':[31], 'WDT':[32], '#':[33], \"''\":[34]}\n",
    "for i in tokens_tagged:\n",
    "    x[pos_dict[i[1]][0]]+=1\n",
    "x=np.array(x)\n",
    "x=x.reshape(1,-1)\n",
    "# x"
   ]
  },
  {
   "cell_type": "code",
   "execution_count": 42,
   "id": "7c7ce799",
   "metadata": {},
   "outputs": [
    {
     "name": "stdout",
     "output_type": "stream",
     "text": [
      "NOT SPAM\n"
     ]
    }
   ],
   "source": [
    "pred=clf.predict(x)\n",
    "if pred==0:\n",
    "    print(\"NOT SPAM\")\n",
    "else:\n",
    "    print(\"SPAM\")"
   ]
  },
  {
   "cell_type": "code",
   "execution_count": null,
   "id": "fc260886",
   "metadata": {},
   "outputs": [],
   "source": []
  }
 ],
 "metadata": {
  "kernelspec": {
   "display_name": "Python 3 (ipykernel)",
   "language": "python",
   "name": "python3"
  },
  "language_info": {
   "codemirror_mode": {
    "name": "ipython",
    "version": 3
   },
   "file_extension": ".py",
   "mimetype": "text/x-python",
   "name": "python",
   "nbconvert_exporter": "python",
   "pygments_lexer": "ipython3",
   "version": "3.10.4"
  }
 },
 "nbformat": 4,
 "nbformat_minor": 5
}
